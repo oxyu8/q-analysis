{
 "cells": [
  {
   "attachments": {},
   "cell_type": "markdown",
   "metadata": {},
   "source": [
    "## インストール"
   ]
  },
  {
   "cell_type": "code",
   "execution_count": 6,
   "metadata": {},
   "outputs": [
    {
     "ename": "SyntaxError",
     "evalue": "invalid syntax (<ipython-input-6-5ad1bb845e3b>, line 2)",
     "output_type": "error",
     "traceback": [
      "\u001b[0;36m  File \u001b[0;32m\"<ipython-input-6-5ad1bb845e3b>\"\u001b[0;36m, line \u001b[0;32m2\u001b[0m\n\u001b[0;31m    pip install plotnine\u001b[0m\n\u001b[0m        ^\u001b[0m\n\u001b[0;31mSyntaxError\u001b[0m\u001b[0;31m:\u001b[0m invalid syntax\n"
     ]
    }
   ],
   "source": [
    "pip install pingouin\n",
    "pip install plotnine\n",
    "pip install mysql-connector-python\n",
    "pip install numexpr\n",
    "pip install python-dotenv\n",
    "pip install japanize-matplotlib\n"
   ]
  },
  {
   "cell_type": "code",
   "execution_count": 1,
   "metadata": {},
   "outputs": [],
   "source": [
    "from itertools import combinations\n",
    "\n",
    "import csv\n",
    "import MySQLdb\n",
    "import mysql.connector as mydb\n",
    "import pandas as pd\n",
    "import pandas.io.sql as psql\n",
    "import numpy as np\n",
    "from pingouin import kruskal, mwu, multicomp\n",
    "from plotnine import *\n"
   ]
  },
  {
   "cell_type": "code",
   "execution_count": 5,
   "metadata": {},
   "outputs": [],
   "source": [
    "%load_ext dotenv\n",
    "%dotenv\n"
   ]
  },
  {
   "cell_type": "code",
   "execution_count": 7,
   "metadata": {},
   "outputs": [
    {
     "name": "stdout",
     "output_type": "stream",
     "text": [
      "True\n"
     ]
    }
   ],
   "source": [
    "host = os.environ.get('HOST')\n",
    "user = os.environ.get('USER_NAME')\n",
    "password = os.environ.get('PASSWORD')\n",
    "database = os.environ.get('DATABASE')\n",
    "DB_CONFIG = dict(host=host, user=user, password=password, database=database)\n",
    "\n",
    "def check_db_connection(db_config=DB_CONFIG):\n",
    "  connection = mydb.connect(**db_config)\n",
    "  connection.ping(reconnect=True)\n",
    "  # 接続できているかどうか確認\n",
    "  print(connection.is_connected())\n",
    "\n",
    "\n",
    "check_db_connection(DB_CONFIG)\n"
   ]
  },
  {
   "cell_type": "code",
   "execution_count": null,
   "metadata": {},
   "outputs": [],
   "source": [
    "UI_CONDITION = (\"question\", \"perspective\", \"non\")\n",
    "THEME_CONDITION = (\"tpp\", \"airPollution\", \"vietnamTrip\")"
   ]
  },
  {
   "cell_type": "code",
   "execution_count": 11,
   "metadata": {},
   "outputs": [],
   "source": [
    "\n",
    "def get_dataframe_from_db(sql):\n",
    "  \"\"\"\n",
    "  db上のデータをデータフレームとして取得\n",
    "  \"\"\"\n",
    "  conn = mydb.connect(**DB_CONFIG)\n",
    "  df_read = pd.read_sql(sql, conn)\n",
    "  conn.close()\n",
    "  return df_read\n",
    "\n",
    "\n",
    "def convert_csv_to_array(csv_path):\n",
    "  \"\"\"\n",
    "  csvファイルの中身を一次元配列へ変換\n",
    "  \"\"\"\n",
    "  result_arr = []\n",
    "  with open(csv_path) as f:\n",
    "      reader = csv.reader(f)\n",
    "      for row in reader:\n",
    "        result_arr.append(str(row[0]))\n",
    "  return result_arr\n",
    "\n",
    "\n",
    "def convert_singleArray_to_dataframe(array, columnName):\n",
    "  df = pd.DataFrame(array, columns=[columnName],)\n",
    "  return df\n"
   ]
  },
  {
   "attachments": {},
   "cell_type": "markdown",
   "metadata": {},
   "source": [
    "## 分析対象とする実験協力者\n",
    "\n",
    "- ウェブ検索タスクにて意見文章の提出まで行い，事後アンケートへの回答が完了しているワーカー\n",
    "- タスク所要時間が外れ値ではないワーカー"
   ]
  },
  {
   "cell_type": "code",
   "execution_count": 19,
   "metadata": {},
   "outputs": [
    {
     "name": "stderr",
     "output_type": "stream",
     "text": [
      "<ipython-input-11-751477a6ed0c>:6: UserWarning: pandas only supports SQLAlchemy connectable (engine/connection) or database string URI or sqlite3 DBAPI2 connection. Other DBAPI2 objects are not tested. Please consider using SQLAlchemy.\n"
     ]
    },
    {
     "data": {
      "text/html": [
       "<div>\n",
       "<style scoped>\n",
       "    .dataframe tbody tr th:only-of-type {\n",
       "        vertical-align: middle;\n",
       "    }\n",
       "\n",
       "    .dataframe tbody tr th {\n",
       "        vertical-align: top;\n",
       "    }\n",
       "\n",
       "    .dataframe thead th {\n",
       "        text-align: right;\n",
       "    }\n",
       "</style>\n",
       "<table border=\"1\" class=\"dataframe\">\n",
       "  <thead>\n",
       "    <tr style=\"text-align: right;\">\n",
       "      <th></th>\n",
       "      <th>id</th>\n",
       "      <th>crowdId</th>\n",
       "      <th>password</th>\n",
       "      <th>taskId</th>\n",
       "      <th>hasFinishedWebSearchTask</th>\n",
       "      <th>created_at</th>\n",
       "      <th>updated_at</th>\n",
       "    </tr>\n",
       "  </thead>\n",
       "  <tbody>\n",
       "    <tr>\n",
       "      <th>0</th>\n",
       "      <td>2</td>\n",
       "      <td>o1571139</td>\n",
       "      <td>$argon2id$v=19$m=65536,t=3,p=4$Wriae75xWojEPuS...</td>\n",
       "      <td>VIETNAMTRIP_WITH_NONUI</td>\n",
       "      <td>1</td>\n",
       "      <td>2022-12-30 16:58:16</td>\n",
       "      <td>2022-12-30 17:22:07</td>\n",
       "    </tr>\n",
       "    <tr>\n",
       "      <th>1</th>\n",
       "      <td>3</td>\n",
       "      <td>takahiro0655</td>\n",
       "      <td>$argon2id$v=19$m=65536,t=3,p=4$Brho2o4kb21R15K...</td>\n",
       "      <td>TPP_WITH_QUERYUI</td>\n",
       "      <td>1</td>\n",
       "      <td>2022-12-30 16:58:27</td>\n",
       "      <td>2022-12-30 17:24:54</td>\n",
       "    </tr>\n",
       "    <tr>\n",
       "      <th>2</th>\n",
       "      <td>4</td>\n",
       "      <td>bvglp11</td>\n",
       "      <td>$argon2id$v=19$m=65536,t=3,p=4$aRJFbIAEEhWlQkg...</td>\n",
       "      <td>TPP_WITH_NONUI</td>\n",
       "      <td>1</td>\n",
       "      <td>2022-12-30 16:58:36</td>\n",
       "      <td>2022-12-30 17:13:53</td>\n",
       "    </tr>\n",
       "    <tr>\n",
       "      <th>3</th>\n",
       "      <td>5</td>\n",
       "      <td>a_11044</td>\n",
       "      <td>$argon2id$v=19$m=65536,t=3,p=4$As4YyaA+x5HNXcf...</td>\n",
       "      <td>AIRPOLLUTION_WITH_QUESTIONUI</td>\n",
       "      <td>1</td>\n",
       "      <td>2022-12-30 16:58:51</td>\n",
       "      <td>2022-12-30 17:33:08</td>\n",
       "    </tr>\n",
       "    <tr>\n",
       "      <th>4</th>\n",
       "      <td>6</td>\n",
       "      <td>Hiroppi1</td>\n",
       "      <td>$argon2id$v=19$m=65536,t=3,p=4$b+BKPMiKZvlrtL/...</td>\n",
       "      <td>AIRPOLLUTION_WITH_QUERYUI</td>\n",
       "      <td>1</td>\n",
       "      <td>2022-12-30 16:59:26</td>\n",
       "      <td>2022-12-30 17:08:34</td>\n",
       "    </tr>\n",
       "  </tbody>\n",
       "</table>\n",
       "</div>"
      ],
      "text/plain": [
       "   id       crowdId                                           password  \\\n",
       "0   2      o1571139  $argon2id$v=19$m=65536,t=3,p=4$Wriae75xWojEPuS...   \n",
       "1   3  takahiro0655  $argon2id$v=19$m=65536,t=3,p=4$Brho2o4kb21R15K...   \n",
       "2   4       bvglp11  $argon2id$v=19$m=65536,t=3,p=4$aRJFbIAEEhWlQkg...   \n",
       "3   5       a_11044  $argon2id$v=19$m=65536,t=3,p=4$As4YyaA+x5HNXcf...   \n",
       "4   6      Hiroppi1  $argon2id$v=19$m=65536,t=3,p=4$b+BKPMiKZvlrtL/...   \n",
       "\n",
       "                         taskId  hasFinishedWebSearchTask          created_at  \\\n",
       "0        VIETNAMTRIP_WITH_NONUI                         1 2022-12-30 16:58:16   \n",
       "1              TPP_WITH_QUERYUI                         1 2022-12-30 16:58:27   \n",
       "2                TPP_WITH_NONUI                         1 2022-12-30 16:58:36   \n",
       "3  AIRPOLLUTION_WITH_QUESTIONUI                         1 2022-12-30 16:58:51   \n",
       "4     AIRPOLLUTION_WITH_QUERYUI                         1 2022-12-30 16:59:26   \n",
       "\n",
       "           updated_at  \n",
       "0 2022-12-30 17:22:07  \n",
       "1 2022-12-30 17:24:54  \n",
       "2 2022-12-30 17:13:53  \n",
       "3 2022-12-30 17:33:08  \n",
       "4 2022-12-30 17:08:34  "
      ]
     },
     "execution_count": 19,
     "metadata": {},
     "output_type": "execute_result"
    }
   ],
   "source": [
    "questionnaire_answered_crowdIds_csv_path = './data/questionnaire_answered_crowdId.csv'\n",
    "\n",
    "questionnaire_answered_crowdIds = convert_csv_to_array(questionnaire_answered_crowdIds_csv_path)\n",
    "questionnaire_answered_crowdIds_df = convert_singleArray_to_dataframe(\n",
    "    questionnaire_answered_crowdIds, 'crowdId')\n",
    "\n",
    "users_who_complete_webSearchTask_df = get_dataframe_from_db(\"select * from users where hasFinishedWebSearchTask\")\n",
    "users_who_completed_all_task_df =  users_who_complete_webSearchTask_df[users_who_complete_webSearchTask_df['crowdId'].isin(questionnaire_answered_crowdIds)]\n",
    "users_who_completed_all_task_df.head()\n",
    "\n"
   ]
  },
  {
   "cell_type": "code",
   "execution_count": null,
   "metadata": {},
   "outputs": [],
   "source": []
  }
 ],
 "metadata": {
  "kernelspec": {
   "display_name": "Python 3",
   "language": "python",
   "name": "python3"
  },
  "language_info": {
   "codemirror_mode": {
    "name": "ipython",
    "version": 3
   },
   "file_extension": ".py",
   "mimetype": "text/x-python",
   "name": "python",
   "nbconvert_exporter": "python",
   "pygments_lexer": "ipython3",
   "version": "3.8.5"
  },
  "orig_nbformat": 4,
  "vscode": {
   "interpreter": {
    "hash": "88329e40be876de6b193ad92720176eccb2381a1bfcc59868f4d139be73352f5"
   }
  }
 },
 "nbformat": 4,
 "nbformat_minor": 2
}
