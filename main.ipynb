{
 "cells": [
  {
   "cell_type": "code",
   "execution_count": 6,
   "metadata": {},
   "outputs": [
    {
     "ename": "SyntaxError",
     "evalue": "invalid syntax (<ipython-input-6-5ad1bb845e3b>, line 2)",
     "output_type": "error",
     "traceback": [
      "\u001b[0;36m  File \u001b[0;32m\"<ipython-input-6-5ad1bb845e3b>\"\u001b[0;36m, line \u001b[0;32m2\u001b[0m\n\u001b[0;31m    pip install plotnine\u001b[0m\n\u001b[0m        ^\u001b[0m\n\u001b[0;31mSyntaxError\u001b[0m\u001b[0;31m:\u001b[0m invalid syntax\n"
     ]
    }
   ],
   "source": [
    "pip install pingouin\n",
    "pip install plotnine\n",
    "pip install mysql-connector-python\n",
    "pip install numexpr\n",
    "pip install python-dotenv\n",
    "pip install japanize-matplotlib\n"
   ]
  },
  {
   "cell_type": "code",
   "execution_count": 13,
   "metadata": {},
   "outputs": [
    {
     "name": "stdout",
     "output_type": "stream",
     "text": [
      "Requirement already satisfied: japanize-matplotlib in /Users/oxyu8/.pyenv/versions/3.8.5/lib/python3.8/site-packages (1.1.3)\n",
      "Requirement already satisfied: matplotlib in /Users/oxyu8/.pyenv/versions/3.8.5/lib/python3.8/site-packages (from japanize-matplotlib) (3.6.2)\n",
      "Requirement already satisfied: kiwisolver>=1.0.1 in /Users/oxyu8/.pyenv/versions/3.8.5/lib/python3.8/site-packages (from matplotlib->japanize-matplotlib) (1.2.0)\n",
      "Requirement already satisfied: pyparsing>=2.2.1 in /Users/oxyu8/.pyenv/versions/3.8.5/lib/python3.8/site-packages (from matplotlib->japanize-matplotlib) (2.4.7)\n",
      "Requirement already satisfied: contourpy>=1.0.1 in /Users/oxyu8/.pyenv/versions/3.8.5/lib/python3.8/site-packages (from matplotlib->japanize-matplotlib) (1.0.6)\n",
      "Requirement already satisfied: numpy>=1.19 in /Users/oxyu8/.pyenv/versions/3.8.5/lib/python3.8/site-packages (from matplotlib->japanize-matplotlib) (1.21.2)\n",
      "Requirement already satisfied: python-dateutil>=2.7 in /Users/oxyu8/.pyenv/versions/3.8.5/lib/python3.8/site-packages (from matplotlib->japanize-matplotlib) (2.8.1)\n",
      "Requirement already satisfied: packaging>=20.0 in /Users/oxyu8/.pyenv/versions/3.8.5/lib/python3.8/site-packages (from matplotlib->japanize-matplotlib) (22.0)\n",
      "Requirement already satisfied: fonttools>=4.22.0 in /Users/oxyu8/.pyenv/versions/3.8.5/lib/python3.8/site-packages (from matplotlib->japanize-matplotlib) (4.38.0)\n",
      "Requirement already satisfied: pillow>=6.2.0 in /Users/oxyu8/.pyenv/versions/3.8.5/lib/python3.8/site-packages (from matplotlib->japanize-matplotlib) (7.2.0)\n",
      "Requirement already satisfied: cycler>=0.10 in /Users/oxyu8/.pyenv/versions/3.8.5/lib/python3.8/site-packages (from matplotlib->japanize-matplotlib) (0.10.0)\n",
      "Requirement already satisfied: six>=1.5 in /Users/oxyu8/.pyenv/versions/3.8.5/lib/python3.8/site-packages (from python-dateutil>=2.7->matplotlib->japanize-matplotlib) (1.15.0)\n",
      "\u001b[33mWARNING: You are using pip version 20.1.1; however, version 22.3.1 is available.\n",
      "You should consider upgrading via the '/Users/oxyu8/.pyenv/versions/3.8.5/bin/python -m pip install --upgrade pip' command.\u001b[0m\n",
      "Note: you may need to restart the kernel to use updated packages.\n"
     ]
    }
   ],
   "source": []
  },
  {
   "cell_type": "code",
   "execution_count": null,
   "metadata": {},
   "outputs": [],
   "source": []
  }
 ],
 "metadata": {
  "kernelspec": {
   "display_name": "Python 3",
   "language": "python",
   "name": "python3"
  },
  "language_info": {
   "codemirror_mode": {
    "name": "ipython",
    "version": 3
   },
   "file_extension": ".py",
   "mimetype": "text/x-python",
   "name": "python",
   "nbconvert_exporter": "python",
   "pygments_lexer": "ipython3",
   "version": "3.8.5"
  },
  "orig_nbformat": 4,
  "vscode": {
   "interpreter": {
    "hash": "88329e40be876de6b193ad92720176eccb2381a1bfcc59868f4d139be73352f5"
   }
  }
 },
 "nbformat": 4,
 "nbformat_minor": 2
}
