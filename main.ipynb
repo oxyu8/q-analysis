{
 "cells": [
  {
   "attachments": {},
   "cell_type": "markdown",
   "metadata": {},
   "source": [
    "## インストール"
   ]
  },
  {
   "cell_type": "code",
   "execution_count": 6,
   "metadata": {},
   "outputs": [
    {
     "ename": "SyntaxError",
     "evalue": "invalid syntax (<ipython-input-6-5ad1bb845e3b>, line 2)",
     "output_type": "error",
     "traceback": [
      "\u001b[0;36m  File \u001b[0;32m\"<ipython-input-6-5ad1bb845e3b>\"\u001b[0;36m, line \u001b[0;32m2\u001b[0m\n\u001b[0;31m    pip install plotnine\u001b[0m\n\u001b[0m        ^\u001b[0m\n\u001b[0;31mSyntaxError\u001b[0m\u001b[0;31m:\u001b[0m invalid syntax\n"
     ]
    }
   ],
   "source": [
    "pip install pingouin\n",
    "pip install plotnine\n",
    "pip install mysql-connector-python\n",
    "pip install numexpr\n",
    "pip install python-dotenv\n",
    "pip install japanize-matplotlib\n"
   ]
  },
  {
   "cell_type": "code",
   "execution_count": 1,
   "metadata": {},
   "outputs": [],
   "source": [
    "from itertools import combinations\n",
    "\n",
    "import csv\n",
    "import MySQLdb\n",
    "import mysql.connector as mydb\n",
    "import pandas as pd\n",
    "import pandas.io.sql as psql\n",
    "import numpy as np\n",
    "from pingouin import kruskal, mwu, multicomp\n",
    "from plotnine import *\n"
   ]
  },
  {
   "cell_type": "code",
   "execution_count": 5,
   "metadata": {},
   "outputs": [],
   "source": [
    "%load_ext dotenv\n",
    "%dotenv\n"
   ]
  },
  {
   "cell_type": "code",
   "execution_count": 7,
   "metadata": {},
   "outputs": [
    {
     "name": "stdout",
     "output_type": "stream",
     "text": [
      "True\n"
     ]
    }
   ],
   "source": [
    "host = os.environ.get('HOST')\n",
    "user = os.environ.get('USER_NAME')\n",
    "password = os.environ.get('PASSWORD')\n",
    "database = os.environ.get('DATABASE')\n",
    "DB_CONFIG = dict(host=host, user=user, password=password, database=database)\n",
    "\n",
    "def check_db_connection(db_config=DB_CONFIG):\n",
    "  connection = mydb.connect(**db_config)\n",
    "  connection.ping(reconnect=True)\n",
    "  # 接続できているかどうか確認\n",
    "  print(connection.is_connected())\n",
    "\n",
    "\n",
    "check_db_connection(DB_CONFIG)\n"
   ]
  },
  {
   "cell_type": "code",
   "execution_count": null,
   "metadata": {},
   "outputs": [],
   "source": [
    "UI_CONDITION = (\"question\", \"perspective\", \"non\")\n",
    "THEME_CONDITION = (\"tpp\", \"airPollution\", \"vietnamTrip\")"
   ]
  },
  {
   "cell_type": "code",
   "execution_count": 11,
   "metadata": {},
   "outputs": [],
   "source": [
    "\n",
    "def get_dataframe_from_db(sql):\n",
    "  \"\"\"\n",
    "  db上のデータをデータフレームとして取得\n",
    "  \"\"\"\n",
    "  conn = mydb.connect(**DB_CONFIG)\n",
    "  df_read = pd.read_sql(sql, conn)\n",
    "  conn.close()\n",
    "  return df_read\n",
    "\n",
    "\n",
    "def convert_csv_to_array(csv_path):\n",
    "  \"\"\"\n",
    "  csvファイルの中身を一次元配列へ変換\n",
    "  \"\"\"\n",
    "  result_arr = []\n",
    "  with open(csv_path) as f:\n",
    "      reader = csv.reader(f)\n",
    "      for row in reader:\n",
    "        result_arr.append(str(row[0]))\n",
    "  return result_arr\n",
    "\n",
    "\n",
    "def convert_singleArray_to_dataframe(array, columnName):\n",
    "  df = pd.DataFrame(array, columns=[columnName],)\n",
    "  return df\n"
   ]
  },
  {
   "attachments": {},
   "cell_type": "markdown",
   "metadata": {},
   "source": [
    "## 分析対象とする実験協力者\n",
    "\n",
    "- ウェブ検索タスクにて意見文章の提出まで行い，事後アンケートへの回答が完了しているワーカー\n",
    "- タスク所要時間が外れ値ではないワーカー"
   ]
  },
  {
   "cell_type": "code",
   "execution_count": 27,
   "metadata": {},
   "outputs": [
    {
     "name": "stdout",
     "output_type": "stream",
     "text": [
      "264\n"
     ]
    },
    {
     "name": "stderr",
     "output_type": "stream",
     "text": [
      "<ipython-input-11-751477a6ed0c>:6: UserWarning: pandas only supports SQLAlchemy connectable (engine/connection) or database string URI or sqlite3 DBAPI2 connection. Other DBAPI2 objects are not tested. Please consider using SQLAlchemy.\n",
      "<ipython-input-11-751477a6ed0c>:6: UserWarning: pandas only supports SQLAlchemy connectable (engine/connection) or database string URI or sqlite3 DBAPI2 connection. Other DBAPI2 objects are not tested. Please consider using SQLAlchemy.\n",
      "<ipython-input-27-225ee121da04>:31: SettingWithCopyWarning: \n",
      "A value is trying to be set on a copy of a slice from a DataFrame.\n",
      "Try using .loc[row_indexer,col_indexer] = value instead\n",
      "\n",
      "See the caveats in the documentation: https://pandas.pydata.org/pandas-docs/stable/user_guide/indexing.html#returning-a-view-versus-a-copy\n",
      "<ipython-input-27-225ee121da04>:21: SettingWithCopyWarning: \n",
      "A value is trying to be set on a copy of a slice from a DataFrame.\n",
      "Try using .loc[row_indexer,col_indexer] = value instead\n",
      "\n",
      "See the caveats in the documentation: https://pandas.pydata.org/pandas-docs/stable/user_guide/indexing.html#returning-a-view-versus-a-copy\n",
      "<ipython-input-27-225ee121da04>:22: SettingWithCopyWarning: \n",
      "A value is trying to be set on a copy of a slice from a DataFrame.\n",
      "Try using .loc[row_indexer,col_indexer] = value instead\n",
      "\n",
      "See the caveats in the documentation: https://pandas.pydata.org/pandas-docs/stable/user_guide/indexing.html#returning-a-view-versus-a-copy\n"
     ]
    }
   ],
   "source": [
    "\n",
    "# ウェブ検索タスクと事後アンケートへの回答の両方が完了しているワーカー\n",
    "questionnaire_answered_crowdIds_csv_path = './data/questionnaire_answered_crowdId.csv'\n",
    "questionnaire_answered_crowdIds = convert_csv_to_array(questionnaire_answered_crowdIds_csv_path)\n",
    "questionnaire_answered_crowdIds_df = convert_singleArray_to_dataframe(\n",
    "    questionnaire_answered_crowdIds, 'crowdId')\n",
    "users_who_complete_webSearchTask_df = get_dataframe_from_db(\"select * from users where hasFinishedWebSearchTask\")\n",
    "users_who_completed_all_task_df =  users_who_complete_webSearchTask_df[users_who_complete_webSearchTask_df['crowdId'].isin(questionnaire_answered_crowdIds)]\n",
    "\n",
    "all_task_done_user_crowdIds = users_who_completed_all_task_df['crowdId'].tolist()\n",
    "# タスク所要時間の外れ値処理\n",
    "\n",
    "\n",
    "def get_dataframe_without_outlier(df, target_column):\n",
    "    q1 = df[target_column].quantile(\n",
    "        0.25)\n",
    "    q3 = df[target_column].quantile(\n",
    "        0.75)\n",
    "    iqr = q3 - q1\n",
    "    threshold_upper = q3 + 1.5 * iqr\n",
    "    threshold_lower = q1 - 1.5 * iqr\n",
    "    df[\"threshold_lower\"] = threshold_lower\n",
    "    df[\"threshold_upper\"] = threshold_upper\n",
    "\n",
    "    df_without_outlier = df[(df[target_column] < threshold_upper) & (\n",
    "        df[target_column] > threshold_lower)]\n",
    "    return df_without_outlier\n",
    "\n",
    "task_time_df = get_dataframe_from_db(\"select * from taskTime;\")\n",
    "task_time_with_users_done_all_task_df = task_time_df[task_time_df['crowdId'].isin(\n",
    "    all_task_done_user_crowdIds)]\n",
    "task_time_with_users_done_all_task_df[\"taskTimeDuration\"] = (\n",
    "    task_time_with_users_done_all_task_df[\"finished_at\"]-task_time_with_users_done_all_task_df[\"reStarted_at\"]).map(lambda x: x.total_seconds())\n",
    "\n",
    "valid_users_df = get_dataframe_without_outlier(\n",
    "    task_time_with_users_done_all_task_df, 'taskTimeDuration')\n",
    "print(len(valid_users_df)) # 264人\n",
    "\n",
    "\n",
    "\n"
   ]
  },
  {
   "cell_type": "code",
   "execution_count": null,
   "metadata": {},
   "outputs": [],
   "source": []
  }
 ],
 "metadata": {
  "kernelspec": {
   "display_name": "Python 3",
   "language": "python",
   "name": "python3"
  },
  "language_info": {
   "codemirror_mode": {
    "name": "ipython",
    "version": 3
   },
   "file_extension": ".py",
   "mimetype": "text/x-python",
   "name": "python",
   "nbconvert_exporter": "python",
   "pygments_lexer": "ipython3",
   "version": "3.8.5"
  },
  "orig_nbformat": 4,
  "vscode": {
   "interpreter": {
    "hash": "88329e40be876de6b193ad92720176eccb2381a1bfcc59868f4d139be73352f5"
   }
  }
 },
 "nbformat": 4,
 "nbformat_minor": 2
}
